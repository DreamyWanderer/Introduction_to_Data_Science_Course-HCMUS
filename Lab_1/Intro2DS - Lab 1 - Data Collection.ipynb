{
 "cells": [
  {
   "cell_type": "markdown",
   "metadata": {},
   "source": [
    "## Lab01: Collect and preprocess data\n",
    "\n",
    "- Name: Nguyễn Thế Hoàng\n",
    "- Student code: 20120090"
   ]
  },
  {
   "cell_type": "markdown",
   "metadata": {},
   "source": [
    "***\n",
    "## How to do and submit your assignment\n",
    "\n",
    "**Work on your assignment**\n",
    "\n",
    "You will do your assignment directly in this notebook. First, fill in your name and ID at the beginning of the file. In the notebook, fill in places that say:\n",
    "```python\n",
    "#TODO\n",
    "```\n",
    "\n",
    "During your work, you can print out the result, create more cells to test, or create more functions to handle things. Please note that <font color=red>you are not allowed to delete or modify my code cells</font> (except in the case that mentioned above). Let remove `raise NotImplementedError(\"not implement\")` when running code.\n",
    "\n",
    "Always press `Ctrl + S` in order to save your work.\n",
    "\n",
    "**Notes:** \n",
    "\n",
    "    *  Copy means zero\n",
    "    *  You have to submit your work on time. No exception\n",
    "    *  Any questions about your grade are based on the assignment submitted on Moodle\n",
    "    *  Wrong submission takes you -2 points\n",
    "\n",
    "**Submission guideline**\n",
    "\n",
    "When grading your assignment, I will choose `Kernel` - `Restart Kernel & Run All Cells` in order to restart the kernel and run all cells in your notebook. Therefore, you should do that before submitting to ensure that the outputs are all as expected.\n",
    "\n",
    "After that, you make a submited direction as follow:\n",
    "\n",
    "- Folder `StudentCode` (e.g. If your student code is 1234567, then your folder is `1234567`)\n",
    "    - File `<StudentCode>.ipynb` (e.g. If your student code is 1234567, then your file is `1234567.ipynb`)\n",
    "\n",
    "Finally, you compress your folder (`StudentCode`) and submit on Moodle. **The extension of the file is nothing else but `.zip`.**\n",
    "\n",
    "<font color=red>Please strictly follow the submission rules.</font>"
   ]
  },
  {
   "cell_type": "markdown",
   "metadata": {},
   "source": [
    "# 1. Set-up environment"
   ]
  },
  {
   "cell_type": "code",
   "execution_count": null,
   "metadata": {},
   "outputs": [],
   "source": [
    "#Necessary Packages\n",
    "import time\n",
    "import requests\n",
    "import numpy as np\n",
    "import pandas as pd \n",
    "from bs4 import BeautifulSoup\n",
    "from requests_html import HTMLSession\n",
    "from xml.etree import ElementTree as ET\n",
    "import re\n",
    "# If you need other support packages"
   ]
  },
  {
   "cell_type": "markdown",
   "metadata": {},
   "source": [
    "# 2. Collect data from a website by parsing HTML (4p)"
   ]
  },
  {
   "cell_type": "markdown",
   "metadata": {},
   "source": [
    "In this section, you are going to collect data from a website simulating the sale of Pokemon. I have prepared all the needed links in a file (`pokemon.txt`), and you have to crawl data from these links. The expected output is a `dataframe` with the following fields:\n",
    "\n",
    "+ `SKU`: ID of Pokemon\n",
    "+ `Name`: Name of Pokemon\n",
    "+ `Price`: Price of Pokemon \n",
    "+ `InStock`: Quantity of Pokemons in stock\n",
    "+ `Categories`: The category of Pokemon\n",
    "+ `Tags`: Tags of Pokemon\n",
    "\n",
    "Your mission is to complete function `collect_data` with `course_urls_file` as your input parameter. The output should look like `pokemon_example.csv` (I list out some examples so you can easily imagine your work)."
   ]
  },
  {
   "cell_type": "code",
   "execution_count": null,
   "metadata": {},
   "outputs": [],
   "source": [
    "pokemon_example = pd.read_csv('pokemon_example.csv')\n",
    "pokemon_example"
   ]
  },
  {
   "cell_type": "code",
   "execution_count": null,
   "metadata": {},
   "outputs": [],
   "source": [
    "def parseSKU(r):\n",
    "    tags = r.html.find('.sku', first=True)\n",
    "\n",
    "    return int(tags.text)\n",
    "\n",
    "def parseName(r):\n",
    "    tags = r.html.find('.product_title.entry-title', first=True)\n",
    "\n",
    "    return tags.text\n",
    "\n",
    "def parsePrice(r):\n",
    "    tags = r.html.find(\".summary .woocommerce-Price-amount.amount\", first=True)\n",
    " \n",
    "    return float(tags.text[1:])\n",
    "\n",
    "def parseInStock(r):\n",
    "    tags = r.html.find(\".summary .stock\", first=True)\n",
    "\n",
    "    # Using regex get only the number of items in stock in the beggining of the string\n",
    "    return int(re.findall(r'\\d+', tags.text)[0])\n",
    "\n",
    "def parseCategories(r):\n",
    "    tags = r.html.find(\"span.posted_in a\", first=False)\n",
    "\n",
    "    categories = []\n",
    "    for tag in tags:\n",
    "        categories.append(tag.text)\n",
    "    \n",
    "    return categories\n",
    "\n",
    "def parseTags(r):\n",
    "    tags = r.html.find(\"span.tagged_as a\", first=False)\n",
    "\n",
    "    categories = []\n",
    "    for tag in tags:\n",
    "        categories.append(tag.text)\n",
    "    \n",
    "    return categories\n",
    "\n",
    "def collect_data(course_urls_file):\n",
    "    #load paths from file\n",
    "    url_file = open(course_urls_file)\n",
    "    urls = url_file.readlines()\n",
    "    urls_filtered = [item[:-1] for item in urls]\n",
    "    \n",
    "    #init empty list to store the values of each attribute.\n",
    "    SKU = []\n",
    "    Names = []\n",
    "    Prices = []\n",
    "    InStocks = []\n",
    "    Categories = []\n",
    "    Tags = []\n",
    "\n",
    "    session = HTMLSession()\n",
    "    cnt = 0\n",
    "\n",
    "    for url in urls_filtered:\n",
    "        \n",
    "        cnt += 1\n",
    "        print(cnt)\n",
    "        r = session.get(url)\n",
    "\n",
    "        SKU.append( parseSKU(r))\n",
    "        Names.append( parseName(r))\n",
    "        Prices.append( parsePrice(r))\n",
    "        InStocks.append( parseInStock(r))\n",
    "        Categories.append( parseCategories(r))\n",
    "        Tags.append( parseTags(r))\n",
    "        #print(SKU)\n",
    "        #print(Names)\n",
    "        #print(Prices)\n",
    "        #print(InStocks)\n",
    "        #print(Categories)\n",
    "        #print(Tags)\n",
    "    \n",
    "    # Create a dataframe with the data. The Categories and Tags are lists, so we need to convert list of string to string\n",
    "    data = pd.DataFrame({'SKU': SKU, \n",
    "                         'Name': Names, \n",
    "                         'Price': Prices, \n",
    "                         'InStock': InStocks, \n",
    "                         'Categories': Categories, \n",
    "                         'Tags': Tags})\n",
    "    data['Categories'] = data['Categories'].apply(lambda x: ', '.join(x))\n",
    "    data['Tags'] = data['Tags'].apply(lambda x: ', '.join(x))\n",
    "    \n",
    "    return data"
   ]
  },
  {
   "cell_type": "code",
   "execution_count": null,
   "metadata": {},
   "outputs": [],
   "source": [
    "#TEST\n",
    "data_pokemon = collect_data(\"pokemon.txt\") \n",
    "assert data_pokemon.shape == (755, 6)"
   ]
  },
  {
   "cell_type": "code",
   "execution_count": null,
   "metadata": {},
   "outputs": [],
   "source": [
    "#Save to csv file with name pokemon.csv, without using any index\n",
    "data_pokemon.to_csv('pokemon.csv', index=False)"
   ]
  },
  {
   "cell_type": "markdown",
   "metadata": {},
   "source": [
    "# 3. Collect data using Web API (4p)"
   ]
  },
  {
   "cell_type": "markdown",
   "metadata": {},
   "source": [
    "In this section, your work is to practice to crawl data using Web API (http://api.worldbank.org/v2/country/all/indicator/SP.POP.TOTL). This is the data of World Bank which includes demographic data and other statistics related to Population, Employment, Health, GDP, Energy Consumption,... for all countries in the world from 1960 to 2022.\n",
    "\n",
    "From the following selected indicators:\n",
    "- `SP.POP.TOTL` - Total population\n",
    "- `SP.POP.TOTL.FE.IN` - Total female population\n",
    "- `SP.POP.TOTL.MA.IN` - Total male population\n",
    "- `SP.DYN.CBRT.IN` - Birth rate\n",
    "- `SP.DYN.CDRT.IN` - Death rate\n",
    "- `SP.DYN.LE00.MA.IN` - Average life expectancy of male\n",
    "- `SP.DYN.LE00.FE.IN` - Average life expectancy of female\n",
    "- `SE.PRM.ENRR` - Primary school enrollment rate\n",
    "- `SE.TER.ENRR` - High school enrollment rate\n",
    "- `SE.PRM.CMPT.ZS` - Primary completion rate\n",
    "- `SE.ADT.1524.LT.ZS` - Literacy rate of people ages 15-24\n",
    "\n",
    "You are required to collect data from 7 countries and save to dataframe `data_countries`:\n",
    "- `US` - United States of America\n",
    "- `IN` - India\n",
    "- `CN` - China\n",
    "- `JP` - Japan\n",
    "- `CA` - Canada\n",
    "- `GB` - Great Britain\n",
    "- `ZA` - South Africa\n",
    "\n",
    "You can expand your work on collecting data (such as collecting data from other countries and other indicators) by reading: https://datahelpdesk.worldbank.org/knowledgebase/articles/889392-api-documentation\n",
    "\n",
    "**Hints**:\n",
    "\n",
    "- Use the based URL: http://api.worldbank.org/v2/\n",
    "- In order to collect data for each indicator of each country, you can use the URL: \"http://api.worldbank.org/v2/countries/{country_code}/indicators/{indicator_code}\"\n",
    "    + `country_code` and `indicator_code` are provided above.\n",
    "    + For example, you can use the following URL to get the `Total population` of Japan: http://api.worldbank.org/v2/countries/jp/indicators/SP.POP.TOTL"
   ]
  },
  {
   "cell_type": "code",
   "execution_count": null,
   "metadata": {},
   "outputs": [],
   "source": [
    "data_countries_examples = pd.read_csv(\"countries_example.csv\")\n",
    "data_countries_examples"
   ]
  },
  {
   "cell_type": "code",
   "execution_count": null,
   "metadata": {},
   "outputs": [],
   "source": [
    "BASE_URL = 'http://api.worldbank.org/v2/'\n",
    "BASE_WB = '{http://www.worldbank.org}'\n",
    "COUNTRIES = [\"US\", \"IN\", \"CN\", \"JP\", \"CA\", \"GB\", \"ZA\"]\n",
    "INDICATORS = ['SP.POP.TOTL', \n",
    "             'SP.POP.TOTL.FE.IN', \n",
    "             'SP.POP.TOTL.MA.IN',\n",
    "             'SP.DYN.CBRT.IN', \n",
    "             'SP.DYN.CDRT.IN',\n",
    "             'SP.DYN.LE00.MA.IN',\n",
    "             'SP.DYN.LE00.FE.IN',\n",
    "             'SE.PRM.ENRR',\n",
    "             'SE.TER.ENRR',\n",
    "             'SE.PRM.CMPT.ZS',\n",
    "             'SE.ADT.1524.LT.ZS']\n",
    "\n",
    "#TODO (option)\n",
    "# If you need other initializations"
   ]
  },
  {
   "cell_type": "code",
   "execution_count": null,
   "metadata": {},
   "outputs": [],
   "source": [
    "def collect_data(countryCode, per_page, start_year, end_year):\n",
    "    \n",
    "    data = pd.DataFrame()\n",
    "    dataDict = {}\n",
    "\n",
    "    dataDict['country'] = [countryCode] * (end_year - start_year + 1)\n",
    "    dataDict['year'] = []\n",
    "    for i in range(end_year, start_year - 1, -1):\n",
    "        dataDict['year'].append(i)\n",
    "\n",
    "    for indicator in INDICATORS:\n",
    "        # Call API\n",
    "        url = f\"{BASE_URL}countries/{countryCode}/indicator/{indicator}?format=xml&date={start_year}:{end_year}\"\n",
    "        response = requests.get(url)\n",
    "        print(url)\n",
    "\n",
    "        # Parse XML\n",
    "        tree = ET.ElementTree( ET.fromstring(response.content) )\n",
    "        root = tree.getroot()\n",
    "        \n",
    "        yearAndAttribute = []\n",
    "        year = None\n",
    "        value = None\n",
    "        for child in root:\n",
    "            for child_2 in child:\n",
    "                \n",
    "                if child_2.tag == f'{BASE_WB}date':\n",
    "                    year = child_2.text\n",
    "                if child_2.tag == f'{BASE_WB}value':\n",
    "                    value = child_2.text\n",
    "\n",
    "            yearAndAttribute.append( (year, value) )\n",
    "\n",
    "        dataDict[indicator] = []\n",
    "        for i in yearAndAttribute:\n",
    "            dataDict[indicator].append(i[1])\n",
    "\n",
    "    data = pd.DataFrame(dataDict)\n",
    "    return data\n",
    "    #print(data)"
   ]
  },
  {
   "cell_type": "code",
   "execution_count": null,
   "metadata": {},
   "outputs": [],
   "source": [
    "def Generate_Countries_Dataset(countryCode_list):\n",
    "    data = pd.DataFrame()\n",
    "    for countryCode in countryCode_list:\n",
    "        data = pd.concat([data, collect_data(countryCode = countryCode, per_page = 100, start_year = 2000, end_year = 2022)], axis=0)\n",
    "    return data"
   ]
  },
  {
   "cell_type": "code",
   "execution_count": null,
   "metadata": {},
   "outputs": [],
   "source": [
    "#TEST\n",
    "data_countries = Generate_Countries_Dataset(COUNTRIES)\n",
    "print(data_countries.shape)\n",
    "assert data_countries.shape == (161, 13)"
   ]
  },
  {
   "cell_type": "code",
   "execution_count": null,
   "metadata": {},
   "outputs": [],
   "source": [
    "# Save to csv file with name coutries.csv\n",
    "data_countries.to_csv(\"countries.csv\", index=False, header=['Country', 'Year', 'Total Population', 'Female Population', 'Male Population', 'Birth Rate', 'Death Rate', 'Male life expectancy', 'Female life expectancy', 'School enrollment, primary', 'School enrollment, tertiary', 'Primary completion rate', 'Literacy rate'])"
   ]
  },
  {
   "cell_type": "code",
   "execution_count": null,
   "metadata": {},
   "outputs": [],
   "source": [
    "data_countries = pd.read_csv(\"countries.csv\")\n",
    "data_countries"
   ]
  }
 ],
 "metadata": {
  "kernelspec": {
   "display_name": "Python 3 (ipykernel)",
   "language": "python",
   "name": "python3"
  },
  "language_info": {
   "codemirror_mode": {
    "name": "ipython",
    "version": 3
   },
   "file_extension": ".py",
   "mimetype": "text/x-python",
   "name": "python",
   "nbconvert_exporter": "python",
   "pygments_lexer": "ipython3",
   "version": "3.10.11"
  }
 },
 "nbformat": 4,
 "nbformat_minor": 2
}
